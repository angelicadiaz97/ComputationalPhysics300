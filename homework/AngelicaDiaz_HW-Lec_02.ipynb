{
 "cells": [
  {
   "cell_type": "code",
   "execution_count": 2,
   "metadata": {},
   "outputs": [
    {
     "name": "stdout",
     "output_type": "stream",
     "text": [
      "To find the multiplicity (Omega) of any (N,q): \n",
      "Let N be the number of oscillators\n",
      "Let q be the energy levels\n",
      "Type the number of oscillators, N: 5\n",
      "Type a value for q: 4\n",
      "The multiplicity is 70.0\n"
     ]
    }
   ],
   "source": [
    "print(\"To find the multiplicity (Omega) of any (N,q): \")\n",
    "print(\"Let N be the number of oscillators\")\n",
    "print(\"Let q be the energy levels\")\n",
    "def factorial(N):\n",
    "#Can also use \"from math import factorial\"\n",
    "    if N == 0 or N == 1:\n",
    "        return 1\n",
    "    else: \n",
    "        total = 1\n",
    "        for i in range(1,N+1):\n",
    "            total *= i\n",
    "        return total     \n",
    "\n",
    "def Multiplicity(N,q):\n",
    "    return factorial(q+N-1)/(factorial(q)*factorial(N-1))\n",
    "    \n",
    "N=int(input(\"Type the number of oscillators, N: \"))\n",
    "q=int(input(\"Type a value for q: \"))\n",
    "    \n",
    "print ('The multiplicity is',  Multiplicity(N,q)) "
   ]
  },
  {
   "cell_type": "code",
   "execution_count": null,
   "metadata": {},
   "outputs": [],
   "source": []
  }
 ],
 "metadata": {
  "kernelspec": {
   "display_name": "Python 3",
   "language": "python",
   "name": "python3"
  },
  "language_info": {
   "codemirror_mode": {
    "name": "ipython",
    "version": 3
   },
   "file_extension": ".py",
   "mimetype": "text/x-python",
   "name": "python",
   "nbconvert_exporter": "python",
   "pygments_lexer": "ipython3",
   "version": "3.7.6"
  }
 },
 "nbformat": 4,
 "nbformat_minor": 4
}
