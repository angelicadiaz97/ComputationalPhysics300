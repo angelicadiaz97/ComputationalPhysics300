{
 "cells": [
  {
   "cell_type": "markdown",
   "metadata": {},
   "source": [
    "# Physics 300 \n",
    "## Computational Physics I (Fall 2017)\n",
    "## BPB-248, Tues/Thurs 10:00 - 11:15 am \n",
    "\n",
    "|Instructor| Prof. Qiang Zhu|\n",
    "|--|-------------------------------|\n",
    "|Email | qiang.zhu@unlv.edu|\n",
    "|Website|http://www.physics.unlv.edu/~qzhu/|\n",
    "|Office| BPB 232|\n",
    "|Office hours | Tues/Thurs 8:30 - 10:00 |"
   ]
  },
  {
   "cell_type": "markdown",
   "metadata": {},
   "source": [
    "# 15 Random Number\n",
    "\n",
    "There are a lot of processes in physics are random or nearly random, like raioactive decay, Browian motion for instances. To mimic randomness our computer programs themselves will need to know how to generate the random numbers first.\n",
    "\n",
    "## 15.1 Uniform Random Number generators\n",
    "\n",
    "Let's start with the following equation:\n",
    "\n",
    "x' = (ax + c) mod m,\n",
    "\n",
    "where a, c and m are integer constants and x is an integer variable. Given a value for x, this equation takes that\n",
    "value and turns into a new integer value x'.\n",
    "\n",
    "Now suppose we take that new value and plug it back in on the righ-hand side of the equation again and get another value. \n",
    "Repeating it for many times, we get a stream of integers. \n"
   ]
  },
  {
   "cell_type": "code",
   "execution_count": 18,
   "metadata": {},
   "outputs": [
    {
     "data": {
      "image/png": "[encoded data removed]",
      "text/plain": [
       "<matplotlib.figure.Figure at 0x42aad3278>"
      ]
     },
     "metadata": {},
     "output_type": "display_data"
    },
    {
     "data": {
      "image/png": "[encoded data removed]",
      "text/plain": [
       "<matplotlib.figure.Figure at 0x42b719cf8>"
      ]
     },
     "metadata": {},
     "output_type": "display_data"
    }
   ],
   "source": [
    "# A code to generate pseudo random numbers\n",
    "\n",
    "import matplotlib.pyplot as plt\n",
    "\n",
    "N = 100\n",
    "a = 1624\n",
    "c = 1012\n",
    "m = 11 #2**31-1 #4245035300\n",
    "x = 1\n",
    "results = []\n",
    "\n",
    "for i in range(N):      \n",
    "    x = (a*x+c)%m\n",
    "    results.append(x)\n",
    "plt.plot(results,\"o\")\n",
    "plt.show()\n",
    "\n",
    "plt.hist(results)\n",
    "plt.show()"
   ]
  },
  {
   "cell_type": "markdown",
   "metadata": {},
   "source": [
    "As it showes above, we calculated the first 100 numbers in the sequence generated by the equation with some {a, c, m} numbers. \n",
    "If we run the program, the generated numbers appear to be quite random.\n",
    "\n",
    "This is a _linear congruential random number generator_, which generates a string of random integers by iterating the same equation for many times. It is the most fundamental way of generating random numbers. \n",
    "\n",
    "- 1, The numbers are not truly random. If you know the values of {a, c, m}, plus the starting values, you can exactly \n",
    "predict the numbers. If you use the same set of parameters, you must get the same values for each run.\n",
    "\n",
    "- 2, The numbers are always positive or zero.\n",
    "\n",
    "- 3, The results are very sensitive to the choice of {a, c, m} values. If c and m were choosen both even, the process would only\n",
    "generate even numbers or only odd numbers. It is wise to use only values which have been thouroughly tested.\n",
    "\n",
    "- 4, For a particular set of {a, c, m}, you can still get different sequence of random numbers by varying the starting number\n",
    "of x. The initial values is called _seed_ for the random number generator.\n",
    "\n",
    "Provided that one is aware of these conditions, the _linear congruential random number generator_ can be used to generate pseudo random numbers for most of the simple calculations.\n",
    "\n",
    "### Quiz\n",
    "\n",
    "- 1, Test different {a, c, m, x0} values, and see how the _linear congruential random number generator_ behaves.\n",
    "- 2, What's the period of the random number generator for each set of {a,c,m}?\n",
    "- 3, Write a code to generate random integers within [-5, 5]"
   ]
  },
  {
   "cell_type": "markdown",
   "metadata": {},
   "source": [
    "## 15.2 The choice of a, c, m\n",
    "In the scheme of _linear congruential random number generator_, the choice of {a, c, m} is really nontrivial as it \n",
    "determines the quality of data. One option, a = $7^7$ = 16807, c=0, m=$2^{31}$-1 = 2,147,483,647, has been tested and found\n",
    "to be an excellent choice for 32-bit computers. \n"
   ]
  },
  {
   "cell_type": "markdown",
   "metadata": {},
   "source": [
    "## 15.3 Random Number Seeds\n",
    "As we saw in the above case, a random number generator can have a seed, which is an input value that tells the generator where\n",
    "to start its sequence. In order to start the random number generator differently every time, one needs to have a systematic way \n",
    "of obtaning a different initial seed. Otherwise, one would end up with exactly the same result if one starts the program with exactly the same initial seed. Almost every computer has intrisic function routines to report the current time in an integer form. For example, one could use the timestamp here.\n",
    "\n",
    "```\n",
    "year:   0<=iy<=99\n",
    "month:  1<=im<=12\n",
    "day:    1<=id<=31\n",
    "hour:   0<=ih<=23\n",
    "minute: 0<=in<=59\n",
    "second: 0<=is<=59\n",
    "```\n",
    "\n",
    "Then one can choose\n",
    "\n",
    "I_seed = iy + 70(im + 12{id + 31[ih + 23(in + 59is)]}) \n",
    "\n",
    "as the initial seed, which is roughly in the region of $[0, 2^{31}-1]$. The results should never be the same within 100 years. This is also how the random seeds are generated in the current computer.\n",
    "\n",
    "On the other hand, the fixed random seeds could be very convenient when one wants to debug a code which contains some part of  random number generation. In the case, you just need to insert some fixed seed number which ensure that you always get the consistent numbers."
   ]
  },
  {
   "cell_type": "markdown",
   "metadata": {
    "collapsed": true
   },
   "source": [
    "## 15.4 Random package in numpy\n",
    "\n",
    "In the modern computer, the real way of generating the random numbers is a bit more complicated than the _linear congruential random number generator_. It is a bit more tricky to program. Fortunately, most programming languages offers built-in functions\n",
    "to generate the numbers. In python, such package could be found in numpy.\n",
    "\n",
    "```python\n",
    "import numpy as np\n",
    "\n",
    "np.random.seed(1)                     #set the seed for the random generated number \n",
    "np.random.randint(0,100,5)            #generate 5 random integers between [0,100]\n",
    "np.random.random(100)                 #generate 100 random floats between [0,1]\n",
    "print(a)\n",
    "```\n"
   ]
  },
  {
   "cell_type": "code",
   "execution_count": 21,
   "metadata": {},
   "outputs": [
    {
     "name": "stdout",
     "output_type": "stream",
     "text": [
      "[37 12 72  9 75] [ 5 79 64 16  1]\n"
     ]
    },
    {
     "data": {
      "text/plain": [
       "array([ 0.18626021,  0.34556073,  0.39676747,  0.53881673,  0.41919451,\n",
       "        0.6852195 ,  0.20445225,  0.87811744,  0.02738759,  0.67046751])"
      ]
     },
     "execution_count": 21,
     "metadata": {},
     "output_type": "execute_result"
    }
   ],
   "source": [
    "import numpy as np\n",
    "\n",
    "np.random.seed(1)\n",
    "a=np.random.randint(0,100,5)\n",
    "b=np.random.randint(0,100,5)\n",
    "print(a,b)\n",
    "np.random.random_sample(10)"
   ]
  },
  {
   "cell_type": "markdown",
   "metadata": {},
   "source": [
    "## 15.5 Homework (by 10 am Oct 19, 2017)\n",
    "\n",
    "- a) Write a program that generates and prints out two random numbers between 1 and 6, to simulate the rolling of two dice.\n",
    "- b) Modify your program to simulate the rolling of two dice a million times (N0) and count the number of times you get double six (N1). Calculate the probability of finding double six in your simulations (N1/N0) \n",
    "- c) Write a code to generate random integers within [-5, 5], find the magic series of {a, c, m} [Don't use the built-in function in numpy] "
   ]
  },
  {
   "cell_type": "code",
   "execution_count": 25,
   "metadata": {},
   "outputs": [
    {
     "name": "stdout",
     "output_type": "stream",
     "text": [
      "[ 0  0 36 53  5] [38 17 79  4 42]\n"
     ]
    },
    {
     "data": {
      "text/plain": [
       "array([ 0.3595079 ,  0.43703195,  0.6976312 ,  0.06022547,  0.66676672,\n",
       "        0.67063787,  0.21038256,  0.1289263 ,  0.31542835,  0.36371077])"
      ]
     },
     "execution_count": 25,
     "metadata": {},
     "output_type": "execute_result"
    }
   ],
   "source": [
    "import numpy as np\n",
    "\n",
    "#np.random.seed(0)\n",
    "a=np.random.randint(0,100,5)\n",
    "b=np.random.randint(0,100,5)\n",
    "print(a,b)\n",
    "np.random.random_sample(10)"
   ]
  },
  {
   "cell_type": "code",
   "execution_count": 7,
   "metadata": {},
   "outputs": [
    {
     "data": {
      "image/png": "[encoded data removed]",
      "text/plain": [
       "<matplotlib.figure.Figure at 0x42ac2ff60>"
      ]
     },
     "metadata": {},
     "output_type": "display_data"
    },
    {
     "name": "stdout",
     "output_type": "stream",
     "text": [
      "[[ 1.         -0.04717651]\n",
      " [-0.04717651  1.        ]]\n"
     ]
    }
   ],
   "source": [
    "  "
   ]
  },
  {
   "cell_type": "code",
   "execution_count": 1,
   "metadata": {},
   "outputs": [
    {
     "name": "stdout",
     "output_type": "stream",
     "text": [
      "5\t6\n",
      "The observed propability for rolling dice is 0.027961\n"
     ]
    }
   ],
   "source": [
    "from __future__ import division, print_function\n",
    "#from os import sys\n",
    "#sys.path.append('cpresources')\n",
    "from pylab import *\n",
    "from random import randint\n",
    "\n",
    "a = randint(1,6)\n",
    "b = randint(1,6)\n",
    "print('{}\\t{}'.format(a,b))\n",
    "\n",
    "count = 0\n",
    "for i in range(1000000):\n",
    "\ta = randint(1,6)\n",
    "\tb = randint(1,6)\n",
    "\tif a==6 and b==6:\n",
    "\t\tcount+=1\n",
    "\n",
    "probability = count/1e6\n",
    "print('The observed propability for rolling dice is {}'.format(probability))\n"
   ]
  },
  {
   "cell_type": "code",
   "execution_count": null,
   "metadata": {},
   "outputs": [],
   "source": []
  }
 ],
 "metadata": {
  "kernelspec": {
   "display_name": "Python 3",
   "language": "python",
   "name": "python3"
  },
  "language_info": {
   "codemirror_mode": {
    "name": "ipython",
    "version": 3
   },
   "file_extension": ".py",
   "mimetype": "text/x-python",
   "name": "python",
   "nbconvert_exporter": "python",
   "pygments_lexer": "ipython3",
   "version": "3.7.6"
  }
 },
 "nbformat": 4,
 "nbformat_minor": 2
}
